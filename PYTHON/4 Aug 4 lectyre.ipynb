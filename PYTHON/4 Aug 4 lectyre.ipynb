{
 "cells": [
  {
   "cell_type": "code",
   "execution_count": 44,
   "id": "d47003b8-731b-4d4c-a043-1dededa68111",
   "metadata": {},
   "outputs": [
    {
     "ename": "SyntaxError",
     "evalue": "invalid syntax (305024301.py, line 1)",
     "output_type": "error",
     "traceback": [
      "\u001b[1;36m  Cell \u001b[1;32mIn[44], line 1\u001b[1;36m\u001b[0m\n\u001b[1;33m    identify operator -is,is not\u001b[0m\n\u001b[1;37m             ^\u001b[0m\n\u001b[1;31mSyntaxError\u001b[0m\u001b[1;31m:\u001b[0m invalid syntax\n"
     ]
    }
   ],
   "source": [
    "identify operator -is,is not"
   ]
  },
  {
   "cell_type": "code",
   "execution_count": 45,
   "id": "8a12ccbd-d93d-4530-9bef-68b14652e0ab",
   "metadata": {},
   "outputs": [],
   "source": [
    "x = 10\n",
    "y =12"
   ]
  },
  {
   "cell_type": "code",
   "execution_count": 46,
   "id": "da2b0844-5386-49e7-979a-7f5ebb2f00fd",
   "metadata": {},
   "outputs": [
    {
     "data": {
      "text/plain": [
       "False"
      ]
     },
     "execution_count": 46,
     "metadata": {},
     "output_type": "execute_result"
    }
   ],
   "source": [
    "x is y"
   ]
  },
  {
   "cell_type": "code",
   "execution_count": 47,
   "id": "20460b88-43fb-4199-9180-c935a3f776f3",
   "metadata": {},
   "outputs": [
    {
     "data": {
      "text/plain": [
       "True"
      ]
     },
     "execution_count": 47,
     "metadata": {},
     "output_type": "execute_result"
    }
   ],
   "source": [
    "x is x"
   ]
  },
  {
   "cell_type": "code",
   "execution_count": 48,
   "id": "7b2919b8-496a-42fc-85c9-74616bc54230",
   "metadata": {},
   "outputs": [
    {
     "data": {
      "text/plain": [
       "True"
      ]
     },
     "execution_count": 48,
     "metadata": {},
     "output_type": "execute_result"
    }
   ],
   "source": [
    "x is not y"
   ]
  },
  {
   "cell_type": "code",
   "execution_count": 49,
   "id": "884d1571-e4d3-4ae2-b591-d8b7b08c1a8d",
   "metadata": {},
   "outputs": [],
   "source": [
    "x =[1,2]\n",
    "y =[1,2]"
   ]
  },
  {
   "cell_type": "code",
   "execution_count": 50,
   "id": "620b89e6-5556-4181-aacd-00923c885e47",
   "metadata": {},
   "outputs": [
    {
     "data": {
      "text/plain": [
       "False"
      ]
     },
     "execution_count": 50,
     "metadata": {},
     "output_type": "execute_result"
    }
   ],
   "source": [
    "x is y"
   ]
  },
  {
   "cell_type": "code",
   "execution_count": 51,
   "id": "de942af2-f8cb-4f5b-921f-500b79722772",
   "metadata": {},
   "outputs": [
    {
     "data": {
      "text/plain": [
       "1564542719232"
      ]
     },
     "execution_count": 51,
     "metadata": {},
     "output_type": "execute_result"
    }
   ],
   "source": [
    "id(x)"
   ]
  },
  {
   "cell_type": "code",
   "execution_count": 52,
   "id": "6a347e46-5c87-4b69-9ee0-1ca6afd60764",
   "metadata": {},
   "outputs": [
    {
     "data": {
      "text/plain": [
       "1564542821440"
      ]
     },
     "execution_count": 52,
     "metadata": {},
     "output_type": "execute_result"
    }
   ],
   "source": [
    "id(y)"
   ]
  },
  {
   "cell_type": "code",
   "execution_count": 53,
   "id": "76e1152c-25ff-46be-bf7a-73fc0725b3b6",
   "metadata": {},
   "outputs": [],
   "source": [
    "x1 =10\n",
    "x2 =12"
   ]
  },
  {
   "cell_type": "code",
   "execution_count": 54,
   "id": "0ae96597-b1ef-4e92-9a62-42bb355e5d1f",
   "metadata": {},
   "outputs": [
    {
     "ename": "SyntaxError",
     "evalue": "invalid syntax (1284980136.py, line 1)",
     "output_type": "error",
     "traceback": [
      "\u001b[1;36m  Cell \u001b[1;32mIn[54], line 1\u001b[1;36m\u001b[0m\n\u001b[1;33m    -5 to 256\u001b[0m\n\u001b[1;37m       ^\u001b[0m\n\u001b[1;31mSyntaxError\u001b[0m\u001b[1;31m:\u001b[0m invalid syntax\n"
     ]
    }
   ],
   "source": [
    "-5 to 256\n",
    "\n",
    "python automatically reuses memory (i.e, the same object)for small interger to optimze performance. This is called interger interning"
   ]
  },
  {
   "cell_type": "code",
   "execution_count": 55,
   "id": "baac7ebc-6471-4779-8e2f-e19e7a2632eb",
   "metadata": {},
   "outputs": [],
   "source": [
    "x2 = 276\n",
    "x3 =276"
   ]
  },
  {
   "cell_type": "code",
   "execution_count": 56,
   "id": "dda0572e-0ce3-48ad-abb5-13d945874e65",
   "metadata": {},
   "outputs": [
    {
     "data": {
      "text/plain": [
       "False"
      ]
     },
     "execution_count": 56,
     "metadata": {},
     "output_type": "execute_result"
    }
   ],
   "source": [
    "x2 is x3"
   ]
  },
  {
   "cell_type": "code",
   "execution_count": 57,
   "id": "34ab7d86-a234-4b42-9ff7-634311456b23",
   "metadata": {},
   "outputs": [
    {
     "data": {
      "text/plain": [
       "1564541511504"
      ]
     },
     "execution_count": 57,
     "metadata": {},
     "output_type": "execute_result"
    }
   ],
   "source": [
    "id(x2)"
   ]
  },
  {
   "cell_type": "code",
   "execution_count": 58,
   "id": "3307337c-dd0a-4e8a-befc-135d415b531c",
   "metadata": {},
   "outputs": [
    {
     "data": {
      "text/plain": [
       "1564541511344"
      ]
     },
     "execution_count": 58,
     "metadata": {},
     "output_type": "execute_result"
    }
   ],
   "source": [
    "id(x3)"
   ]
  },
  {
   "cell_type": "code",
   "execution_count": 59,
   "id": "20d96993-7d64-426c-b06d-669867ca511a",
   "metadata": {},
   "outputs": [],
   "source": [
    "x=257\n",
    "y=257"
   ]
  },
  {
   "cell_type": "code",
   "execution_count": 60,
   "id": "5daa7007-dbad-4f1c-aeed-0b1c8c71a7ba",
   "metadata": {},
   "outputs": [
    {
     "data": {
      "text/plain": [
       "False"
      ]
     },
     "execution_count": 60,
     "metadata": {},
     "output_type": "execute_result"
    }
   ],
   "source": [
    "x is y"
   ]
  },
  {
   "cell_type": "code",
   "execution_count": 61,
   "id": "53d920cd-672e-4fdd-bdcd-c985a422dfa5",
   "metadata": {},
   "outputs": [],
   "source": [
    "x3 = 10\n",
    "x4 = -5"
   ]
  },
  {
   "cell_type": "code",
   "execution_count": 62,
   "id": "db75855f-dad4-468a-9088-5c248924c814",
   "metadata": {},
   "outputs": [
    {
     "data": {
      "text/plain": [
       "140734143640776"
      ]
     },
     "execution_count": 62,
     "metadata": {},
     "output_type": "execute_result"
    }
   ],
   "source": [
    "id(x3)\n"
   ]
  },
  {
   "cell_type": "code",
   "execution_count": 63,
   "id": "943f8a25-3bdd-4b65-a0df-a0b2003602fb",
   "metadata": {},
   "outputs": [
    {
     "data": {
      "text/plain": [
       "140734143640584"
      ]
     },
     "execution_count": 63,
     "metadata": {},
     "output_type": "execute_result"
    }
   ],
   "source": [
    "id(4)"
   ]
  },
  {
   "cell_type": "code",
   "execution_count": 64,
   "id": "71b26962-918c-4e85-9f4b-6e078521a0d7",
   "metadata": {},
   "outputs": [
    {
     "data": {
      "text/plain": [
       "False"
      ]
     },
     "execution_count": 64,
     "metadata": {},
     "output_type": "execute_result"
    }
   ],
   "source": [
    "x3 is x4"
   ]
  },
  {
   "cell_type": "code",
   "execution_count": 65,
   "id": "c3aec424-9d3e-4c8b-84d9-11f5970c4c5e",
   "metadata": {},
   "outputs": [],
   "source": [
    "x5 = -12\n",
    "x6 = 257"
   ]
  },
  {
   "cell_type": "code",
   "execution_count": 66,
   "id": "6c7ad381-aa2c-4e28-9d62-c4c74c4fea47",
   "metadata": {},
   "outputs": [
    {
     "data": {
      "text/plain": [
       "False"
      ]
     },
     "execution_count": 66,
     "metadata": {},
     "output_type": "execute_result"
    }
   ],
   "source": [
    "x5 is x6"
   ]
  },
  {
   "cell_type": "code",
   "execution_count": 67,
   "id": "21221638-d683-474e-a79b-d0d9b7a63f27",
   "metadata": {},
   "outputs": [],
   "source": [
    "x7 = -5\n",
    "x8 =257"
   ]
  },
  {
   "cell_type": "code",
   "execution_count": 68,
   "id": "b80c5038-5498-4b64-9530-3777dfc9e5d1",
   "metadata": {},
   "outputs": [
    {
     "data": {
      "text/plain": [
       "False"
      ]
     },
     "execution_count": 68,
     "metadata": {},
     "output_type": "execute_result"
    }
   ],
   "source": [
    "x7 is x8"
   ]
  },
  {
   "cell_type": "code",
   "execution_count": 69,
   "id": "457d5c50-31d8-486e-853a-3f74c212a7a4",
   "metadata": {},
   "outputs": [],
   "source": [
    "x9 = -257\n",
    "x10 = 257\n"
   ]
  },
  {
   "cell_type": "code",
   "execution_count": 70,
   "id": "9f50f065-80f2-4fdb-8372-853450f8dfe1",
   "metadata": {},
   "outputs": [
    {
     "data": {
      "text/plain": [
       "False"
      ]
     },
     "execution_count": 70,
     "metadata": {},
     "output_type": "execute_result"
    }
   ],
   "source": [
    "x9 is x10"
   ]
  },
  {
   "cell_type": "code",
   "execution_count": 71,
   "id": "412aa16c-6df1-40c6-85f3-e2fe3728edd8",
   "metadata": {},
   "outputs": [
    {
     "data": {
      "text/plain": [
       "1564541513232"
      ]
     },
     "execution_count": 71,
     "metadata": {},
     "output_type": "execute_result"
    }
   ],
   "source": [
    "id(x9)"
   ]
  },
  {
   "cell_type": "code",
   "execution_count": 72,
   "id": "d3fa4b57-8127-4480-9554-8d1000632d25",
   "metadata": {},
   "outputs": [
    {
     "data": {
      "text/plain": [
       "1564541513360"
      ]
     },
     "execution_count": 72,
     "metadata": {},
     "output_type": "execute_result"
    }
   ],
   "source": [
    "id(x10)"
   ]
  },
  {
   "cell_type": "code",
   "execution_count": 73,
   "id": "b4cde49e-de61-41fc-aac8-bc1e5d1f6019",
   "metadata": {},
   "outputs": [
    {
     "ename": "SyntaxError",
     "evalue": "invalid syntax (1890219577.py, line 1)",
     "output_type": "error",
     "traceback": [
      "\u001b[1;36m  Cell \u001b[1;32mIn[73], line 1\u001b[1;36m\u001b[0m\n\u001b[1;33m    In Operator - to test if value is in sequence or not (list,tuple,  string)\u001b[0m\n\u001b[1;37m       ^\u001b[0m\n\u001b[1;31mSyntaxError\u001b[0m\u001b[1;31m:\u001b[0m invalid syntax\n"
     ]
    }
   ],
   "source": [
    "In Operator - to test if value is in sequence or not (list,tuple,  string)"
   ]
  },
  {
   "cell_type": "code",
   "execution_count": 74,
   "id": "66fa8a46-c183-40eb-9460-28701ae67702",
   "metadata": {},
   "outputs": [],
   "source": [
    "fruit = 'Apple'"
   ]
  },
  {
   "cell_type": "code",
   "execution_count": 75,
   "id": "03e61ef9-330c-4268-b6c5-8aa4672cadc2",
   "metadata": {},
   "outputs": [
    {
     "data": {
      "text/plain": [
       "False"
      ]
     },
     "execution_count": 75,
     "metadata": {},
     "output_type": "execute_result"
    }
   ],
   "source": [
    "'1' in fruit"
   ]
  },
  {
   "cell_type": "code",
   "execution_count": 76,
   "id": "43d59792-2803-4c55-bdb2-3088648009bc",
   "metadata": {},
   "outputs": [
    {
     "ename": "TypeError",
     "evalue": "argument of type 'int' is not iterable",
     "output_type": "error",
     "traceback": [
      "\u001b[1;31m---------------------------------------------------------------------------\u001b[0m",
      "\u001b[1;31mTypeError\u001b[0m                                 Traceback (most recent call last)",
      "Cell \u001b[1;32mIn[76], line 1\u001b[0m\n\u001b[1;32m----> 1\u001b[0m \u001b[38;5;124m'\u001b[39m\u001b[38;5;124mprachi\u001b[39m\u001b[38;5;124m'\u001b[39m \u001b[38;5;129;01min\u001b[39;00m \u001b[38;5;241m1\u001b[39m\n",
      "\u001b[1;31mTypeError\u001b[0m: argument of type 'int' is not iterable"
     ]
    }
   ],
   "source": [
    "'prachi' in 1"
   ]
  },
  {
   "cell_type": "code",
   "execution_count": null,
   "id": "3fdd69e6-8412-474e-b5df-7e46308eddf8",
   "metadata": {},
   "outputs": [],
   "source": []
  },
  {
   "cell_type": "code",
   "execution_count": 77,
   "id": "2e54dc6c-8276-4c68-bf72-96b7736b78c3",
   "metadata": {},
   "outputs": [
    {
     "ename": "SyntaxError",
     "evalue": "invalid syntax (2663728538.py, line 1)",
     "output_type": "error",
     "traceback": [
      "\u001b[1;36m  Cell \u001b[1;32mIn[77], line 1\u001b[1;36m\u001b[0m\n\u001b[1;33m    bitwise ---> used to perform binary operation\u001b[0m\n\u001b[1;37m              ^\u001b[0m\n\u001b[1;31mSyntaxError\u001b[0m\u001b[1;31m:\u001b[0m invalid syntax\n"
     ]
    }
   ],
   "source": [
    "bitwise ---> used to perform binary operation"
   ]
  },
  {
   "cell_type": "code",
   "execution_count": 78,
   "id": "da2d4cfa-5bfa-49c7-a31d-bd88348eaf31",
   "metadata": {},
   "outputs": [
    {
     "data": {
      "text/plain": [
       "1"
      ]
     },
     "execution_count": 78,
     "metadata": {},
     "output_type": "execute_result"
    }
   ],
   "source": [
    "5&3 "
   ]
  },
  {
   "cell_type": "code",
   "execution_count": 79,
   "id": "9f25783c-52c3-4b31-bcbf-445d49aaf658",
   "metadata": {},
   "outputs": [
    {
     "ename": "SyntaxError",
     "evalue": "invalid syntax (1672485433.py, line 1)",
     "output_type": "error",
     "traceback": [
      "\u001b[1;36m  Cell \u001b[1;32mIn[79], line 1\u001b[1;36m\u001b[0m\n\u001b[1;33m    -----> 101&11\u001b[0m\n\u001b[1;37m        ^\u001b[0m\n\u001b[1;31mSyntaxError\u001b[0m\u001b[1;31m:\u001b[0m invalid syntax\n"
     ]
    }
   ],
   "source": [
    "-----> 101&11 "
   ]
  },
  {
   "cell_type": "code",
   "execution_count": 80,
   "id": "0fcbebf5-8b44-408d-b24c-134030f566f8",
   "metadata": {},
   "outputs": [
    {
     "data": {
      "text/plain": [
       "2"
      ]
     },
     "execution_count": 80,
     "metadata": {},
     "output_type": "execute_result"
    }
   ],
   "source": [
    "10&7"
   ]
  },
  {
   "cell_type": "code",
   "execution_count": 81,
   "id": "df0b7d45-344c-4c8a-80ed-0a1d9350ddd3",
   "metadata": {},
   "outputs": [
    {
     "ename": "SyntaxError",
     "evalue": "invalid syntax (3959130760.py, line 1)",
     "output_type": "error",
     "traceback": [
      "\u001b[1;36m  Cell \u001b[1;32mIn[81], line 1\u001b[1;36m\u001b[0m\n\u001b[1;33m    binary number are to link is convertbinary.com\u001b[0m\n\u001b[1;37m           ^\u001b[0m\n\u001b[1;31mSyntaxError\u001b[0m\u001b[1;31m:\u001b[0m invalid syntax\n"
     ]
    }
   ],
   "source": [
    "binary number are to link is convertbinary.com "
   ]
  },
  {
   "cell_type": "code",
   "execution_count": 82,
   "id": "b5599457-106c-4e6b-8539-a0909a16ea69",
   "metadata": {
    "jp-MarkdownHeadingCollapsed": true
   },
   "outputs": [
    {
     "data": {
      "text/plain": [
       "15"
      ]
     },
     "execution_count": 82,
     "metadata": {},
     "output_type": "execute_result"
    }
   ],
   "source": [
    "10|7 \n"
   ]
  },
  {
   "cell_type": "code",
   "execution_count": 83,
   "id": "08ee9cd0-d25a-47e1-89c6-8a9c182afd9d",
   "metadata": {},
   "outputs": [
    {
     "data": {
      "text/plain": [
       "15"
      ]
     },
     "execution_count": 83,
     "metadata": {},
     "output_type": "execute_result"
    }
   ],
   "source": [
    "15|4"
   ]
  },
  {
   "cell_type": "code",
   "execution_count": 84,
   "id": "f68beb37-a7dc-4f03-9a08-8ba61b9757b1",
   "metadata": {},
   "outputs": [
    {
     "data": {
      "text/plain": [
       "-11"
      ]
     },
     "execution_count": 84,
     "metadata": {},
     "output_type": "execute_result"
    }
   ],
   "source": [
    "~10"
   ]
  },
  {
   "cell_type": "code",
   "execution_count": 85,
   "id": "66a270eb-8f74-4243-adf4-ef824b6ccd2b",
   "metadata": {},
   "outputs": [
    {
     "data": {
      "text/plain": [
       "-71"
      ]
     },
     "execution_count": 85,
     "metadata": {},
     "output_type": "execute_result"
    }
   ],
   "source": [
    "~70"
   ]
  },
  {
   "cell_type": "code",
   "execution_count": 86,
   "id": "ed47e09b-5dcb-4dc2-b033-61f59d84ef14",
   "metadata": {},
   "outputs": [
    {
     "ename": "SyntaxError",
     "evalue": "unmatched ')' (2911533503.py, line 3)",
     "output_type": "error",
     "traceback": [
      "\u001b[1;36m  Cell \u001b[1;32mIn[86], line 3\u001b[1;36m\u001b[0m\n\u001b[1;33m    1) implicit - automatically converys tha data type without any external support\u001b[0m\n\u001b[1;37m     ^\u001b[0m\n\u001b[1;31mSyntaxError\u001b[0m\u001b[1;31m:\u001b[0m unmatched ')'\n"
     ]
    }
   ],
   "source": [
    "typecasting - efers to convert one data type to another  \n",
    "\n",
    "1) implicit - automatically converys tha data type without any external support\n",
    "2) explicit "
   ]
  },
  {
   "cell_type": "code",
   "execution_count": 87,
   "id": "0d6ccc2b-688a-4b4b-b6b3-77ed78435d4a",
   "metadata": {},
   "outputs": [],
   "source": [
    "a= 10 #10.0\n",
    "b = 5.5"
   ]
  },
  {
   "cell_type": "code",
   "execution_count": 88,
   "id": "5e045c5a-61ae-4beb-bf03-cb7a20f8290b",
   "metadata": {},
   "outputs": [
    {
     "data": {
      "text/plain": [
       "15.5"
      ]
     },
     "execution_count": 88,
     "metadata": {},
     "output_type": "execute_result"
    }
   ],
   "source": [
    "a+b #int + floot"
   ]
  },
  {
   "cell_type": "code",
   "execution_count": 89,
   "id": "a74a7705-d43d-46cf-93ae-d30ff703e0cb",
   "metadata": {},
   "outputs": [],
   "source": [
    "a=10.5\n",
    "b=11.5"
   ]
  },
  {
   "cell_type": "code",
   "execution_count": 90,
   "id": "118b83e9-9d57-42fd-8e7b-e35b8e4636c5",
   "metadata": {},
   "outputs": [
    {
     "data": {
      "text/plain": [
       "22.0"
      ]
     },
     "execution_count": 90,
     "metadata": {},
     "output_type": "execute_result"
    }
   ],
   "source": [
    "a+b"
   ]
  },
  {
   "cell_type": "code",
   "execution_count": 91,
   "id": "4bff1a65-5ba4-4316-98cd-83f290df71e1",
   "metadata": {},
   "outputs": [],
   "source": [
    "a=10\n",
    "b=20.7"
   ]
  },
  {
   "cell_type": "code",
   "execution_count": 92,
   "id": "932cee92-9282-42bb-9891-d5189c41d5c0",
   "metadata": {},
   "outputs": [
    {
     "data": {
      "text/plain": [
       "30"
      ]
     },
     "execution_count": 92,
     "metadata": {},
     "output_type": "execute_result"
    }
   ],
   "source": [
    "a+ int(b)"
   ]
  },
  {
   "cell_type": "code",
   "execution_count": 93,
   "id": "d2b8e746-650f-4940-a99a-9e62e5faee0b",
   "metadata": {},
   "outputs": [
    {
     "data": {
      "text/plain": [
       "30.7"
      ]
     },
     "execution_count": 93,
     "metadata": {},
     "output_type": "execute_result"
    }
   ],
   "source": [
    "float(a)+b"
   ]
  },
  {
   "cell_type": "code",
   "execution_count": 94,
   "id": "66a634e2-4b14-4fca-9f57-322cf7c8691a",
   "metadata": {},
   "outputs": [
    {
     "data": {
      "text/plain": [
       "30.7"
      ]
     },
     "execution_count": 94,
     "metadata": {},
     "output_type": "execute_result"
    }
   ],
   "source": [
    "a+b"
   ]
  },
  {
   "cell_type": "code",
   "execution_count": 95,
   "id": "2878c382-ae98-4b7e-9270-23361701fbab",
   "metadata": {},
   "outputs": [],
   "source": [
    "x = 9.7\n",
    "y = int(x)"
   ]
  },
  {
   "cell_type": "code",
   "execution_count": 96,
   "id": "47c656f6-4420-49ad-8a2f-ba946462f78a",
   "metadata": {},
   "outputs": [
    {
     "data": {
      "text/plain": [
       "9"
      ]
     },
     "execution_count": 96,
     "metadata": {},
     "output_type": "execute_result"
    }
   ],
   "source": [
    "y"
   ]
  },
  {
   "cell_type": "code",
   "execution_count": 97,
   "id": "e931fc41-37d9-4c00-8642-6db29dfe9d6d",
   "metadata": {},
   "outputs": [],
   "source": [
    "x = 10\n",
    "y = float(x)"
   ]
  },
  {
   "cell_type": "code",
   "execution_count": 98,
   "id": "4ea23d34-e7ff-4571-8011-5db3b9178756",
   "metadata": {},
   "outputs": [
    {
     "data": {
      "text/plain": [
       "10.0"
      ]
     },
     "execution_count": 98,
     "metadata": {},
     "output_type": "execute_result"
    }
   ],
   "source": [
    "y"
   ]
  },
  {
   "cell_type": "code",
   "execution_count": 99,
   "id": "06c294a9-2c9c-479a-bdca-ae9f069c8e33",
   "metadata": {},
   "outputs": [
    {
     "data": {
      "text/plain": [
       "float"
      ]
     },
     "execution_count": 99,
     "metadata": {},
     "output_type": "execute_result"
    }
   ],
   "source": [
    "type(y)"
   ]
  },
  {
   "cell_type": "code",
   "execution_count": 100,
   "id": "69ae0881-0a11-47db-980a-6cf144c69992",
   "metadata": {},
   "outputs": [],
   "source": [
    "x = 100"
   ]
  },
  {
   "cell_type": "code",
   "execution_count": 101,
   "id": "235f707c-172b-48db-9407-c88fa399469b",
   "metadata": {},
   "outputs": [
    {
     "data": {
      "text/plain": [
       "int"
      ]
     },
     "execution_count": 101,
     "metadata": {},
     "output_type": "execute_result"
    }
   ],
   "source": [
    "type(x)"
   ]
  },
  {
   "cell_type": "code",
   "execution_count": 102,
   "id": "47862ec6-33ae-4050-ab47-b20682c9f1c1",
   "metadata": {},
   "outputs": [],
   "source": [
    "y = str(x)"
   ]
  },
  {
   "cell_type": "code",
   "execution_count": 103,
   "id": "d599b160-1972-4a74-8e48-586dec12e44d",
   "metadata": {},
   "outputs": [
    {
     "data": {
      "text/plain": [
       "str"
      ]
     },
     "execution_count": 103,
     "metadata": {},
     "output_type": "execute_result"
    }
   ],
   "source": [
    "type(y)"
   ]
  },
  {
   "cell_type": "code",
   "execution_count": 104,
   "id": "81199546-da18-474b-8179-d3b64509dd0b",
   "metadata": {},
   "outputs": [],
   "source": [
    "x ='prachi'"
   ]
  },
  {
   "cell_type": "code",
   "execution_count": 105,
   "id": "c6fb2c86-1401-41c9-ad30-a371fa8baa58",
   "metadata": {},
   "outputs": [],
   "source": [
    "x = '100'"
   ]
  },
  {
   "cell_type": "code",
   "execution_count": 106,
   "id": "cd7ecde1-d5f1-468c-b5c3-03e1fe9efe2c",
   "metadata": {},
   "outputs": [
    {
     "data": {
      "text/plain": [
       "str"
      ]
     },
     "execution_count": 106,
     "metadata": {},
     "output_type": "execute_result"
    }
   ],
   "source": [
    "type(x)"
   ]
  },
  {
   "cell_type": "code",
   "execution_count": 107,
   "id": "97675549-5825-45cd-a7f2-be572272347e",
   "metadata": {},
   "outputs": [
    {
     "data": {
      "text/plain": [
       "100"
      ]
     },
     "execution_count": 107,
     "metadata": {},
     "output_type": "execute_result"
    }
   ],
   "source": [
    "int(x)"
   ]
  },
  {
   "cell_type": "code",
   "execution_count": 108,
   "id": "373b25f9-7523-47f2-a51d-1da0c08eec43",
   "metadata": {},
   "outputs": [],
   "source": [
    "y=int(x)"
   ]
  },
  {
   "cell_type": "code",
   "execution_count": 109,
   "id": "0b53c001-9a65-43d0-8783-a97c1ba7ff56",
   "metadata": {},
   "outputs": [
    {
     "data": {
      "text/plain": [
       "int"
      ]
     },
     "execution_count": 109,
     "metadata": {},
     "output_type": "execute_result"
    }
   ],
   "source": [
    "type(y)\n"
   ]
  },
  {
   "cell_type": "code",
   "execution_count": 110,
   "id": "35c782d3-8a39-4b8d-b397-937d1fac4eb7",
   "metadata": {},
   "outputs": [],
   "source": [
    "s =\"3.14\""
   ]
  },
  {
   "cell_type": "code",
   "execution_count": 111,
   "id": "46f55514-7bcb-4707-b8c8-be2766439e9e",
   "metadata": {},
   "outputs": [],
   "source": [
    "t = float(s)"
   ]
  },
  {
   "cell_type": "code",
   "execution_count": 112,
   "id": "26b02a81-f876-4ab5-a77b-14f404bb1c91",
   "metadata": {},
   "outputs": [
    {
     "data": {
      "text/plain": [
       "float"
      ]
     },
     "execution_count": 112,
     "metadata": {},
     "output_type": "execute_result"
    }
   ],
   "source": [
    "type(t)"
   ]
  },
  {
   "cell_type": "code",
   "execution_count": 113,
   "id": "52aff302-1e8e-4bf1-b01b-a27986b9f6e6",
   "metadata": {},
   "outputs": [],
   "source": [
    "x = 0"
   ]
  },
  {
   "cell_type": "code",
   "execution_count": 114,
   "id": "6819b28e-097b-43cd-9e6e-017a9963ba98",
   "metadata": {},
   "outputs": [
    {
     "data": {
      "text/plain": [
       "False"
      ]
     },
     "execution_count": 114,
     "metadata": {},
     "output_type": "execute_result"
    }
   ],
   "source": [
    "bool  (0)"
   ]
  },
  {
   "cell_type": "code",
   "execution_count": 115,
   "id": "4b5560e0-95a9-44ff-b0a9-d9bc2b2e9022",
   "metadata": {},
   "outputs": [],
   "source": [
    "y = 1"
   ]
  },
  {
   "cell_type": "code",
   "execution_count": 116,
   "id": "d9666632-c930-4f03-a25d-cb770c32ab21",
   "metadata": {},
   "outputs": [
    {
     "data": {
      "text/plain": [
       "True"
      ]
     },
     "execution_count": 116,
     "metadata": {},
     "output_type": "execute_result"
    }
   ],
   "source": [
    "bool(y)"
   ]
  },
  {
   "cell_type": "code",
   "execution_count": 117,
   "id": "2e2273ae-0539-4397-80a4-e433f07d6b50",
   "metadata": {},
   "outputs": [],
   "source": [
    "z  = 5"
   ]
  },
  {
   "cell_type": "code",
   "execution_count": 118,
   "id": "f755b317-4431-4307-839b-6422e28caf54",
   "metadata": {},
   "outputs": [
    {
     "data": {
      "text/plain": [
       "True"
      ]
     },
     "execution_count": 118,
     "metadata": {},
     "output_type": "execute_result"
    }
   ],
   "source": [
    "bool(5)"
   ]
  },
  {
   "cell_type": "code",
   "execution_count": 119,
   "id": "f7661464-6642-4f70-bd7c-28c4040fa72b",
   "metadata": {},
   "outputs": [],
   "source": [
    "z = -1"
   ]
  },
  {
   "cell_type": "code",
   "execution_count": 120,
   "id": "934f4187-b7cc-48b4-8556-543a5910fb0a",
   "metadata": {},
   "outputs": [
    {
     "data": {
      "text/plain": [
       "True"
      ]
     },
     "execution_count": 120,
     "metadata": {},
     "output_type": "execute_result"
    }
   ],
   "source": [
    "bool(z)"
   ]
  },
  {
   "cell_type": "code",
   "execution_count": 121,
   "id": "c7f8b201-ebba-4b72-a457-20e48bfa48bb",
   "metadata": {},
   "outputs": [],
   "source": [
    "a =[ 1,2,3,4,5,6,7,8,]"
   ]
  },
  {
   "cell_type": "code",
   "execution_count": 122,
   "id": "bb30b138-97ae-47bc-b8b3-3c7a04e42b01",
   "metadata": {},
   "outputs": [
    {
     "data": {
      "text/plain": [
       "list"
      ]
     },
     "execution_count": 122,
     "metadata": {},
     "output_type": "execute_result"
    }
   ],
   "source": [
    "type(a)"
   ]
  },
  {
   "cell_type": "code",
   "execution_count": 123,
   "id": "26c35ae2-8555-4a53-93c9-51c039d7cf0c",
   "metadata": {},
   "outputs": [],
   "source": [
    "b = set(a)\n"
   ]
  },
  {
   "cell_type": "code",
   "execution_count": 124,
   "id": "f6ee47c7-fe0b-4633-ab9f-68cbf4c84564",
   "metadata": {},
   "outputs": [
    {
     "data": {
      "text/plain": [
       "{1, 2, 3, 4, 5, 6, 7, 8}"
      ]
     },
     "execution_count": 124,
     "metadata": {},
     "output_type": "execute_result"
    }
   ],
   "source": [
    "b"
   ]
  },
  {
   "cell_type": "code",
   "execution_count": 125,
   "id": "7a8393a9-fa12-450f-be77-bc08fba385c6",
   "metadata": {},
   "outputs": [
    {
     "data": {
      "text/plain": [
       "set"
      ]
     },
     "execution_count": 125,
     "metadata": {},
     "output_type": "execute_result"
    }
   ],
   "source": [
    "type(b)"
   ]
  },
  {
   "cell_type": "code",
   "execution_count": 126,
   "id": "d63f6210-560e-47ce-80ba-93056bde3945",
   "metadata": {},
   "outputs": [],
   "source": [
    "age = \"18\""
   ]
  },
  {
   "cell_type": "code",
   "execution_count": 127,
   "id": "1e2a4f56-2c81-41e9-ad37-2da319062ff7",
   "metadata": {},
   "outputs": [
    {
     "name": "stdout",
     "output_type": "stream",
     "text": [
      "eligible for the vote\n"
     ]
    }
   ],
   "source": [
    "if int (age)>=18:\n",
    "    print(\"eligible for the vote\")"
   ]
  },
  {
   "cell_type": "code",
   "execution_count": 128,
   "id": "4532e24c-8e19-4b9a-8c81-b427ff986aae",
   "metadata": {},
   "outputs": [
    {
     "name": "stdout",
     "output_type": "stream",
     "text": [
      "hello word\n"
     ]
    }
   ],
   "source": [
    "print (\"hello word\")\n"
   ]
  },
  {
   "cell_type": "code",
   "execution_count": 129,
   "id": "3ad21b52-76b8-4088-bed8-841af4ab8799",
   "metadata": {},
   "outputs": [],
   "source": [
    "a=10"
   ]
  },
  {
   "cell_type": "code",
   "execution_count": 130,
   "id": "1a0aa2a9-9bbf-4413-975e-e9485a86990d",
   "metadata": {},
   "outputs": [
    {
     "name": "stdout",
     "output_type": "stream",
     "text": [
      "number is: 10\n"
     ]
    }
   ],
   "source": [
    "print(\"number is:\",a)"
   ]
  },
  {
   "cell_type": "code",
   "execution_count": 131,
   "id": "ba94f4ff-c2f1-4216-9db7-b9bcbdf99e93",
   "metadata": {},
   "outputs": [],
   "source": [
    "a=10\n",
    "b=7\n"
   ]
  },
  {
   "cell_type": "code",
   "execution_count": 132,
   "id": "89ec5914-1c45-4bf2-bdfa-7851383a6ab8",
   "metadata": {},
   "outputs": [],
   "source": [
    "sum = a+b\n",
    "sub= a-b\n",
    "mul = a*b\n",
    "div = a/b"
   ]
  },
  {
   "cell_type": "code",
   "execution_count": 133,
   "id": "35650a1f-6453-4bc2-b8cd-575b7fbb9012",
   "metadata": {},
   "outputs": [
    {
     "name": "stdout",
     "output_type": "stream",
     "text": [
      "sum of   10 and 7 is 17\n"
     ]
    }
   ],
   "source": [
    "print(\"sum of  \",a,\"and\",b,\"is\",sum)"
   ]
  },
  {
   "cell_type": "code",
   "execution_count": 134,
   "id": "502fcd34-0cf2-40b7-9575-77af930cf906",
   "metadata": {},
   "outputs": [
    {
     "name": "stdout",
     "output_type": "stream",
     "text": [
      "a-b-c\n"
     ]
    }
   ],
   "source": [
    "print(\"a\",\"b\",\"c\",sep = '-')"
   ]
  },
  {
   "cell_type": "code",
   "execution_count": 135,
   "id": "62e8ec37-b54c-4032-8bd2-9b8ca06f8206",
   "metadata": {},
   "outputs": [
    {
     "name": "stdout",
     "output_type": "stream",
     "text": [
      "hello-world\n"
     ]
    }
   ],
   "source": [
    "print(\"hello\",end =\"-\")\n",
    "print(\"world\")"
   ]
  },
  {
   "cell_type": "code",
   "execution_count": 136,
   "id": "35a44aa5-3876-4ab9-a225-f51e487e593d",
   "metadata": {},
   "outputs": [
    {
     "name": "stdout",
     "output_type": "stream",
     "text": [
      "hello,I am prachi\n"
     ]
    }
   ],
   "source": [
    "print(\"hello\",end =\",\")\n",
    "print(\"I am\",end =\" \")\n",
    "print(\"prachi\")"
   ]
  },
  {
   "cell_type": "code",
   "execution_count": 137,
   "id": "4095655b-4287-4501-afae-d4af874461ae",
   "metadata": {},
   "outputs": [],
   "source": [
    "name = \"prachi\"\n",
    "age = 25"
   ]
  },
  {
   "cell_type": "code",
   "execution_count": 138,
   "id": "236f6a34-7890-4d3d-bbba-2ec7d092d3a5",
   "metadata": {},
   "outputs": [
    {
     "name": "stdout",
     "output_type": "stream",
     "text": [
      "name - pratik ravindra akolkar  age= 23,school=janata high "
     ]
    }
   ],
   "source": [
    "print(\"name - pratik ravindra akolkar \",end =\" \")\n",
    "print (\"age= 23\" ,end = \",\")\n",
    "print (\"school=janata high\",end = \" \" )"
   ]
  },
  {
   "cell_type": "code",
   "execution_count": 139,
   "id": "f539e72c-1793-4dce-b292-513728976403",
   "metadata": {},
   "outputs": [
    {
     "name": "stdout",
     "output_type": "stream",
     "text": [
      "prachi,25\n"
     ]
    }
   ],
   "source": [
    "print (name,end=\",\")\n",
    "print(age)"
   ]
  },
  {
   "cell_type": "code",
   "execution_count": 140,
   "id": "aab333a2-9f2f-432a-9aa6-46e791a77e0d",
   "metadata": {},
   "outputs": [
    {
     "name": "stdout",
     "output_type": "stream",
     "text": [
      "name: prachi\n",
      "age: 25\n"
     ]
    }
   ],
   "source": [
    "print(\"name:\",name)\n",
    "print(\"age:\",age)"
   ]
  },
  {
   "cell_type": "code",
   "execution_count": 141,
   "id": "973648ec-34a9-4ef8-b4af-c3d7bd502cd8",
   "metadata": {},
   "outputs": [
    {
     "name": "stdout",
     "output_type": "stream",
     "text": [
      " name: prachi \n",
      " age: 25\n"
     ]
    }
   ],
   "source": [
    "print(\" name:\",name,\"\\n\",\"age:\",age)"
   ]
  },
  {
   "cell_type": "code",
   "execution_count": 142,
   "id": "c5cf8189-fc03-4ff7-85a3-fb2f90d5590e",
   "metadata": {},
   "outputs": [
    {
     "name": "stdout",
     "output_type": "stream",
     "text": [
      "name: prachi \t age: 25\n"
     ]
    }
   ],
   "source": [
    "print(\"name:\",name,\"\\t\",\"age:\",age)"
   ]
  },
  {
   "cell_type": "code",
   "execution_count": 143,
   "id": "c53747b2-1187-4427-82ba-10702d39d506",
   "metadata": {},
   "outputs": [
    {
     "name": "stdout",
     "output_type": "stream",
     "text": [
      "she said : \"Hi!\"\n"
     ]
    }
   ],
   "source": [
    "print(\"she said : \\\"Hi!\\\"\")"
   ]
  },
  {
   "cell_type": "code",
   "execution_count": 144,
   "id": "200eef62-0bb8-432b-b20d-2747195dca35",
   "metadata": {},
   "outputs": [
    {
     "name": "stdout",
     "output_type": "stream",
     "text": [
      "hello\"prachi\"\n"
     ]
    }
   ],
   "source": [
    "print(\"hello\\\"prachi\\\"\")"
   ]
  },
  {
   "cell_type": "code",
   "execution_count": 145,
   "id": "7f19ea6c-649a-494d-aea1-1a45b17de901",
   "metadata": {},
   "outputs": [
    {
     "data": {
      "text/plain": [
       "builtin_function_or_method"
      ]
     },
     "execution_count": 145,
     "metadata": {},
     "output_type": "execute_result"
    }
   ],
   "source": [
    "type(print)"
   ]
  },
  {
   "cell_type": "code",
   "execution_count": 146,
   "id": "05312f4e-fd85-4e94-895b-11a4f3c605ee",
   "metadata": {},
   "outputs": [
    {
     "name": "stdout",
     "output_type": "stream",
     "text": [
      " string concatenation\n",
      " also\n",
      "  works\n"
     ]
    }
   ],
   "source": [
    "print(' string concatenation\\n', 'also\\n' ,' works')"
   ]
  },
  {
   "cell_type": "code",
   "execution_count": 147,
   "id": "713267d9-1948-4d30-8844-ec687f29fdd3",
   "metadata": {},
   "outputs": [
    {
     "name": "stdout",
     "output_type": "stream",
     "text": [
      "8\n"
     ]
    }
   ],
   "source": [
    "print(3+5)"
   ]
  },
  {
   "cell_type": "code",
   "execution_count": 148,
   "id": "73b4f297-ae75-4ea0-9edc-c762434e379f",
   "metadata": {},
   "outputs": [
    {
     "name": "stdout",
     "output_type": "stream",
     "text": [
      "3+5\n"
     ]
    }
   ],
   "source": [
    "print(\"3+5\")"
   ]
  },
  {
   "cell_type": "code",
   "execution_count": 149,
   "id": "f7f65900-ea0a-461c-b5aa-fbbc011b2b9d",
   "metadata": {},
   "outputs": [
    {
     "name": "stdout",
     "output_type": "stream",
     "text": [
      "3+5= 8\n"
     ]
    }
   ],
   "source": [
    "print(\"3+5=\",(3+5) )"
   ]
  },
  {
   "cell_type": "code",
   "execution_count": 151,
   "id": "e7874097-b8aa-41e4-8050-ab94564d6ac4",
   "metadata": {},
   "outputs": [
    {
     "name": "stdin",
     "output_type": "stream",
     "text": [
      "what is your name prati\n"
     ]
    }
   ],
   "source": [
    "name = input(\"what is your name\")"
   ]
  },
  {
   "cell_type": "code",
   "execution_count": 152,
   "id": "6bfbb3f6-1471-4bd1-b121-3422176f5e26",
   "metadata": {},
   "outputs": [
    {
     "name": "stdout",
     "output_type": "stream",
     "text": [
      "prati\n"
     ]
    }
   ],
   "source": [
    "print(name)"
   ]
  },
  {
   "cell_type": "code",
   "execution_count": 153,
   "id": "e33e719f-b0c6-4610-8b7d-96f0faeee82b",
   "metadata": {},
   "outputs": [
    {
     "name": "stdin",
     "output_type": "stream",
     "text": [
      "enter a number: 65\n"
     ]
    }
   ],
   "source": [
    "number=input(\"enter a number:\")"
   ]
  },
  {
   "cell_type": "code",
   "execution_count": 154,
   "id": "36f5e6d8-23b2-4260-8d6c-bb143589f73e",
   "metadata": {},
   "outputs": [
    {
     "data": {
      "text/plain": [
       "'65'"
      ]
     },
     "execution_count": 154,
     "metadata": {},
     "output_type": "execute_result"
    }
   ],
   "source": [
    "number"
   ]
  },
  {
   "cell_type": "code",
   "execution_count": 155,
   "id": "19a81bd0-3fd9-4546-bc83-6c3798c610e7",
   "metadata": {},
   "outputs": [
    {
     "data": {
      "text/plain": [
       "str"
      ]
     },
     "execution_count": 155,
     "metadata": {},
     "output_type": "execute_result"
    }
   ],
   "source": [
    "type(number)"
   ]
  },
  {
   "cell_type": "code",
   "execution_count": 156,
   "id": "e2f14c99-ed2c-4f42-b7b2-f05d1fb3db34",
   "metadata": {},
   "outputs": [
    {
     "name": "stdin",
     "output_type": "stream",
     "text": [
      "enter a number: 12.5\n"
     ]
    }
   ],
   "source": [
    "number=float(input(\"enter a number:\"))"
   ]
  },
  {
   "cell_type": "code",
   "execution_count": null,
   "id": "28903651-2f8e-4372-a56a-2774fd96b26d",
   "metadata": {},
   "outputs": [],
   "source": []
  },
  {
   "cell_type": "code",
   "execution_count": null,
   "id": "8493fd8e-0004-4287-b05d-2342fab13d4d",
   "metadata": {},
   "outputs": [],
   "source": []
  },
  {
   "cell_type": "code",
   "execution_count": null,
   "id": "93c19cda-7ee6-48d7-a9d3-019cb8872d36",
   "metadata": {},
   "outputs": [],
   "source": []
  },
  {
   "cell_type": "code",
   "execution_count": null,
   "id": "74c4d765-4e27-45c0-8718-5353c947f4e4",
   "metadata": {},
   "outputs": [],
   "source": []
  },
  {
   "cell_type": "code",
   "execution_count": null,
   "id": "d7b0f957-5f96-49b5-b451-f6c49d03ca28",
   "metadata": {},
   "outputs": [],
   "source": []
  },
  {
   "cell_type": "code",
   "execution_count": null,
   "id": "f3e2ad76-7519-44c7-b12b-4280c2a32a2c",
   "metadata": {},
   "outputs": [],
   "source": []
  },
  {
   "cell_type": "code",
   "execution_count": null,
   "id": "ce49631d-7634-4eb8-aeea-5cc159c303e7",
   "metadata": {},
   "outputs": [],
   "source": []
  },
  {
   "cell_type": "code",
   "execution_count": null,
   "id": "d4698732-cf12-4e3c-bf21-2808b92ac634",
   "metadata": {},
   "outputs": [],
   "source": []
  }
 ],
 "metadata": {
  "kernelspec": {
   "display_name": "Python [conda env:base] *",
   "language": "python",
   "name": "conda-base-py"
  },
  "language_info": {
   "codemirror_mode": {
    "name": "ipython",
    "version": 3
   },
   "file_extension": ".py",
   "mimetype": "text/x-python",
   "name": "python",
   "nbconvert_exporter": "python",
   "pygments_lexer": "ipython3",
   "version": "3.13.5"
  }
 },
 "nbformat": 4,
 "nbformat_minor": 5
}
